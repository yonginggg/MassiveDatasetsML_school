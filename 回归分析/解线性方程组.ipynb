{
 "cells": [
  {
   "cell_type": "code",
   "execution_count": 96,
   "metadata": {
    "collapsed": false
   },
   "outputs": [],
   "source": [
    "import numpy as np\n",
    "from scipy.linalg import solve\n",
    "A = np.loadtxt(open(\"D:/Work/数据挖掘ML/回归分析/randn_data_regression_A.csv\",\"rb\"),delimiter=\",\",skiprows=0) \n",
    "B = np.loadtxt(open(\"D:/Work/数据挖掘ML/回归分析/randn_data_regression_B.csv\",\"rb\"),delimiter=\",\",skiprows=0) \n",
    "new_A = np.hstack([A,np.ones((len(A),1))])\n",
    "A = np.matrix(A)\n",
    "B = np.matrix(B)\n",
    "new_A = np.matrix(new_A)\n",
    "\n",
    "a = np.array([[3, 1, -2], [1, -1, 4], [2, 0, 3]])\n",
    "b = np.array([5, -2, 2.5])\n",
    "a = np.matrix(a)\n",
    "b = np.matrix(b)"
   ]
  },
  {
   "cell_type": "code",
   "execution_count": 97,
   "metadata": {
    "collapsed": false
   },
   "outputs": [
    {
     "data": {
      "text/plain": [
       "numpy.matrixlib.defmatrix.matrix"
      ]
     },
     "execution_count": 97,
     "metadata": {},
     "output_type": "execute_result"
    }
   ],
   "source": [
    "type(a)"
   ]
  },
  {
   "cell_type": "code",
   "execution_count": 98,
   "metadata": {
    "collapsed": false
   },
   "outputs": [
    {
     "data": {
      "text/plain": [
       "numpy.matrixlib.defmatrix.matrix"
      ]
     },
     "execution_count": 98,
     "metadata": {},
     "output_type": "execute_result"
    }
   ],
   "source": [
    "type(A)"
   ]
  },
  {
   "cell_type": "code",
   "execution_count": 99,
   "metadata": {
    "collapsed": true
   },
   "outputs": [],
   "source": [
    "def linerRegression(X_train,Y_train):\n",
    "    theta = np.linalg.inv(X_train.T.dot(X_train)).dot(X_train.T.dot(Y_train.T))\n",
    "    return theta"
   ]
  },
  {
   "cell_type": "code",
   "execution_count": 100,
   "metadata": {
    "collapsed": false
   },
   "outputs": [],
   "source": [
    "x = linerRegression(a,b)"
   ]
  },
  {
   "cell_type": "code",
   "execution_count": 101,
   "metadata": {
    "collapsed": false
   },
   "outputs": [
    {
     "data": {
      "text/plain": [
       "matrix([[ 0.5],\n",
       "        [ 4.5],\n",
       "        [ 0.5]])"
      ]
     },
     "execution_count": 101,
     "metadata": {},
     "output_type": "execute_result"
    }
   ],
   "source": [
    "x"
   ]
  },
  {
   "cell_type": "code",
   "execution_count": 102,
   "metadata": {
    "collapsed": false
   },
   "outputs": [
    {
     "data": {
      "text/plain": [
       "matrix([[ 3,  1, -2],\n",
       "        [ 1, -1,  4],\n",
       "        [ 2,  0,  3]])"
      ]
     },
     "execution_count": 102,
     "metadata": {},
     "output_type": "execute_result"
    }
   ],
   "source": [
    "a"
   ]
  },
  {
   "cell_type": "code",
   "execution_count": 103,
   "metadata": {
    "collapsed": false
   },
   "outputs": [
    {
     "data": {
      "text/plain": [
       "matrix([[ 5. ],\n",
       "        [-2. ],\n",
       "        [ 2.5]])"
      ]
     },
     "execution_count": 103,
     "metadata": {},
     "output_type": "execute_result"
    }
   ],
   "source": [
    "a.dot(x)"
   ]
  },
  {
   "cell_type": "code",
   "execution_count": 104,
   "metadata": {
    "collapsed": false
   },
   "outputs": [
    {
     "data": {
      "text/plain": [
       "matrix([[ 5. , -2. ,  2.5]])"
      ]
     },
     "execution_count": 104,
     "metadata": {},
     "output_type": "execute_result"
    }
   ],
   "source": [
    "b"
   ]
  },
  {
   "cell_type": "code",
   "execution_count": 105,
   "metadata": {
    "collapsed": false
   },
   "outputs": [
    {
     "data": {
      "text/plain": [
       "(50, 500)"
      ]
     },
     "execution_count": 105,
     "metadata": {},
     "output_type": "execute_result"
    }
   ],
   "source": [
    "A.shape"
   ]
  },
  {
   "cell_type": "code",
   "execution_count": 106,
   "metadata": {
    "collapsed": false
   },
   "outputs": [
    {
     "data": {
      "text/plain": [
       "(1, 50)"
      ]
     },
     "execution_count": 106,
     "metadata": {},
     "output_type": "execute_result"
    }
   ],
   "source": [
    "B.shape"
   ]
  },
  {
   "cell_type": "code",
   "execution_count": 107,
   "metadata": {
    "collapsed": false
   },
   "outputs": [
    {
     "data": {
      "text/plain": [
       "(3, 3)"
      ]
     },
     "execution_count": 107,
     "metadata": {},
     "output_type": "execute_result"
    }
   ],
   "source": [
    "a.shape"
   ]
  },
  {
   "cell_type": "code",
   "execution_count": 108,
   "metadata": {
    "collapsed": false
   },
   "outputs": [
    {
     "data": {
      "text/plain": [
       "(1, 3)"
      ]
     },
     "execution_count": 108,
     "metadata": {},
     "output_type": "execute_result"
    }
   ],
   "source": [
    "b.shape"
   ]
  },
  {
   "cell_type": "code",
   "execution_count": 109,
   "metadata": {
    "collapsed": true
   },
   "outputs": [],
   "source": [
    "t = linerRegression(A,B)"
   ]
  },
  {
   "cell_type": "code",
   "execution_count": 111,
   "metadata": {
    "collapsed": false
   },
   "outputs": [
    {
     "data": {
      "text/plain": [
       "matrix([[   21.57704474],\n",
       "        [-1961.99703526],\n",
       "        [ 1888.58078904],\n",
       "        [ 1609.83439033],\n",
       "        [-3823.71187289],\n",
       "        [ 1493.61364605],\n",
       "        [-1695.2699205 ],\n",
       "        [-1787.20214384],\n",
       "        [  504.99866558],\n",
       "        [ -356.46656061],\n",
       "        [  261.01283771],\n",
       "        [-2243.18973101],\n",
       "        [-4192.9603175 ],\n",
       "        [ 1654.88209704],\n",
       "        [  346.12838559],\n",
       "        [ -183.83333494],\n",
       "        [-3175.87712617],\n",
       "        [ 3002.43321263],\n",
       "        [-3938.88860752],\n",
       "        [ 2000.74418315],\n",
       "        [-2399.66404817],\n",
       "        [   42.35407197],\n",
       "        [  465.71800052],\n",
       "        [ 2544.9259943 ],\n",
       "        [-4744.07659653],\n",
       "        [ 2655.86688546],\n",
       "        [ 1508.05111887],\n",
       "        [  852.03766358],\n",
       "        [ -258.83116799],\n",
       "        [ -742.25443041],\n",
       "        [ 4781.12641507],\n",
       "        [  255.74494819],\n",
       "        [ -456.86919056],\n",
       "        [ 6043.35814488],\n",
       "        [ 2085.99069248],\n",
       "        [ 1514.80480592],\n",
       "        [ 1548.65012981],\n",
       "        [-5492.30866108],\n",
       "        [ 1314.53386865],\n",
       "        [ 2396.13502661],\n",
       "        [ 1470.09461626],\n",
       "        [-4889.85744676],\n",
       "        [ -752.81883038],\n",
       "        [-2895.94876098],\n",
       "        [ 4341.80326555],\n",
       "        [ 3179.48932514],\n",
       "        [ 1683.40366947],\n",
       "        [ -269.99102935],\n",
       "        [ 2814.09358465],\n",
       "        [ -736.37337196]])"
      ]
     },
     "execution_count": 111,
     "metadata": {},
     "output_type": "execute_result"
    }
   ],
   "source": [
    "A.dot(t)"
   ]
  },
  {
   "cell_type": "code",
   "execution_count": 112,
   "metadata": {
    "collapsed": true
   },
   "outputs": [],
   "source": [
    "z = linerRegression(new_A, B)"
   ]
  },
  {
   "cell_type": "code",
   "execution_count": 115,
   "metadata": {
    "collapsed": false
   },
   "outputs": [
    {
     "data": {
      "text/plain": [
       "matrix([[ -5027.82579442],\n",
       "        [ 26322.82740133],\n",
       "        [ -6648.28950894],\n",
       "        [ 13435.66369512],\n",
       "        [  6801.70831172],\n",
       "        [  1167.66721153],\n",
       "        [ 10057.77164319],\n",
       "        [ 12059.00200176],\n",
       "        [-10964.36584345],\n",
       "        [-10538.28538152],\n",
       "        [-37361.38968832],\n",
       "        [-47868.379179  ],\n",
       "        [-10353.30872016],\n",
       "        [ -4264.72377071],\n",
       "        [ 24349.95224111],\n",
       "        [ 34818.37956994],\n",
       "        [ 38260.12394973],\n",
       "        [ 14993.20460123],\n",
       "        [ 25443.04707584],\n",
       "        [ 26615.80788523],\n",
       "        [  -792.62987741],\n",
       "        [  -365.19905481],\n",
       "        [ 24008.19176671],\n",
       "        [ 16998.04228389],\n",
       "        [ 21790.24779775],\n",
       "        [ 44907.98321145],\n",
       "        [ 30724.22272979],\n",
       "        [ 50816.02057189],\n",
       "        [-26981.34305269],\n",
       "        [-28685.89771946],\n",
       "        [ 25580.65365335],\n",
       "        [ 10276.30511427],\n",
       "        [-23135.8619946 ],\n",
       "        [  -506.54158622],\n",
       "        [-11338.31196349],\n",
       "        [  8737.78493251],\n",
       "        [ 45592.55189843],\n",
       "        [ -4831.51553332],\n",
       "        [-10099.71802942],\n",
       "        [ 12919.96308503],\n",
       "        [ 26806.96322319],\n",
       "        [  7524.82473421],\n",
       "        [ 35956.34721565],\n",
       "        [-28466.76584378],\n",
       "        [-20518.51495581],\n",
       "        [ -6920.30855746],\n",
       "        [ 11996.88595827],\n",
       "        [-22331.12715683],\n",
       "        [-17420.27512832],\n",
       "        [  -495.38756015]])"
      ]
     },
     "execution_count": 115,
     "metadata": {},
     "output_type": "execute_result"
    }
   ],
   "source": [
    "new_A.dot(z)"
   ]
  },
  {
   "cell_type": "code",
   "execution_count": null,
   "metadata": {
    "collapsed": true
   },
   "outputs": [],
   "source": []
  }
 ],
 "metadata": {
  "anaconda-cloud": {},
  "kernelspec": {
   "display_name": "Python [conda root]",
   "language": "python",
   "name": "conda-root-py"
  },
  "language_info": {
   "codemirror_mode": {
    "name": "ipython",
    "version": 3
   },
   "file_extension": ".py",
   "mimetype": "text/x-python",
   "name": "python",
   "nbconvert_exporter": "python",
   "pygments_lexer": "ipython3",
   "version": "3.5.2"
  }
 },
 "nbformat": 4,
 "nbformat_minor": 1
}
