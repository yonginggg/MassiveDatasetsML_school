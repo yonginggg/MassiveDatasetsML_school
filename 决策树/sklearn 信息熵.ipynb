{
 "cells": [
  {
   "cell_type": "code",
   "execution_count": 2,
   "metadata": {
    "collapsed": false
   },
   "outputs": [
    {
     "ename": "ImportError",
     "evalue": "cannot import name 'mutual_info_classif'",
     "output_type": "error",
     "traceback": [
      "\u001b[0;31m---------------------------------------------------------------------------\u001b[0m",
      "\u001b[0;31mImportError\u001b[0m                               Traceback (most recent call last)",
      "\u001b[0;32m<ipython-input-2-9229fff91e18>\u001b[0m in \u001b[0;36m<module>\u001b[0;34m()\u001b[0m\n\u001b[1;32m      1\u001b[0m \u001b[1;32mfrom\u001b[0m \u001b[0msklearn\u001b[0m\u001b[1;33m.\u001b[0m\u001b[0mdatasets\u001b[0m \u001b[1;32mimport\u001b[0m \u001b[0mfetch_20newsgroups\u001b[0m\u001b[1;33m\u001b[0m\u001b[0m\n\u001b[0;32m----> 2\u001b[0;31m \u001b[1;32mfrom\u001b[0m \u001b[0msklearn\u001b[0m\u001b[1;33m.\u001b[0m\u001b[0mfeature_selection\u001b[0m \u001b[1;32mimport\u001b[0m \u001b[0mmutual_info_classif\u001b[0m\u001b[1;33m\u001b[0m\u001b[0m\n\u001b[0m\u001b[1;32m      3\u001b[0m \u001b[1;32mfrom\u001b[0m \u001b[0msklearn\u001b[0m\u001b[1;33m.\u001b[0m\u001b[0mfeature_extraction\u001b[0m\u001b[1;33m.\u001b[0m\u001b[0mtext\u001b[0m \u001b[1;32mimport\u001b[0m \u001b[0mCountVectorizer\u001b[0m\u001b[1;33m\u001b[0m\u001b[0m\n\u001b[1;32m      4\u001b[0m \u001b[1;33m\u001b[0m\u001b[0m\n\u001b[1;32m      5\u001b[0m categories = ['talk.religion.misc', \n",
      "\u001b[0;31mImportError\u001b[0m: cannot import name 'mutual_info_classif'"
     ]
    }
   ],
   "source": [
    "from sklearn.datasets import fetch_20newsgroups \n",
    "from sklearn.feature_selection import mutual_info_classif \n",
    "from sklearn.feature_extraction.text import CountVectorizer \n",
    "\n",
    "categories = ['talk.religion.misc', \n",
    "       'comp.graphics', 'sci.space'] \n",
    "newsgroups_train = fetch_20newsgroups(subset='train', \n",
    "             categories=categories) \n",
    "\n",
    "X, Y = newsgroups_train.data, newsgroups_train.target \n",
    "cv = CountVectorizer(max_df=0.95, min_df=2, \n",
    "            max_features=10000, \n",
    "            stop_words='english') \n",
    "X_vec = cv.fit_transform(X) \n",
    "\n",
    "res = dict(zip(cv.get_feature_names(), \n",
    "       mutual_info_classif(X_vec, Y, discrete_features=True) \n",
    "       )) \n",
    "print(res) "
   ]
  },
  {
   "cell_type": "code",
   "execution_count": null,
   "metadata": {
    "collapsed": true
   },
   "outputs": [],
   "source": []
  }
 ],
 "metadata": {
  "anaconda-cloud": {},
  "kernelspec": {
   "display_name": "Python [conda root]",
   "language": "python",
   "name": "conda-root-py"
  },
  "language_info": {
   "codemirror_mode": {
    "name": "ipython",
    "version": 3
   },
   "file_extension": ".py",
   "mimetype": "text/x-python",
   "name": "python",
   "nbconvert_exporter": "python",
   "pygments_lexer": "ipython3",
   "version": "3.5.2"
  }
 },
 "nbformat": 4,
 "nbformat_minor": 1
}
