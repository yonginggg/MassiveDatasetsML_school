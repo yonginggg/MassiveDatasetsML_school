{
 "cells": [
  {
   "cell_type": "code",
   "execution_count": 1,
   "metadata": {
    "collapsed": true
   },
   "outputs": [],
   "source": [
    "import pandas as pd\n",
    "import numpy as np\n",
    "\n",
    "def sigmoid(x):\n",
    "    return 1 / (1 + np.exp(-x))\n",
    "\n",
    "#计算Sigmoid函数的偏导数\n",
    "def sigmoid_derivative(x):\n",
    "    return x * (1 - x)\n",
    "\n",
    "def predictY(X, theta1, theta2):\n",
    "    # theta1\n",
    "    X = np.hstack([np.ones((len(X), 1)), X])\n",
    "    k = X.dot(theta1.T)\n",
    "    k = sigmoid(k)\n",
    "\n",
    "    # theta2\n",
    "    k = np.hstack([np.ones((len(k), 1)), k])\n",
    "    k = k.dot(theta2.T)\n",
    "\n",
    "    index = np.argmax(k, axis=1)\n",
    "    index = index + 1\n",
    "\n",
    "    return index\n",
    "\n",
    "\n",
    "X = pd.read_csv(\"X_data.csv\",header=None)\n",
    "y = pd.read_csv(\"y_label.csv\",header=None)\n",
    "y_2 = []\n",
    "for i in range(len(y)):\n",
    "    y_2.append(y[0][i])\n",
    "y = y_2\n",
    "y = np.array(y)\n",
    "# print(y.shape)\n",
    "\n",
    "np.random.seed(1)\n",
    "theta1 = np.random.randn(25,401)\n",
    "theta2 = np.random.randn(10, 26)\n",
    "result = predictY(X,theta1, theta2)\n",
    "\n",
    "error = y-result\n",
    "\n",
    "# for i in range(error.size)\n",
    "# print(result.shape)\n",
    "\n",
    "#\n",
    "# adjustments = np.dot(X.T, error * sigmoid_derivative(result))"
   ]
  },
  {
   "cell_type": "code",
   "execution_count": 2,
   "metadata": {
    "collapsed": false
   },
   "outputs": [
    {
     "data": {
      "text/plain": [
       "array([4, 3, 4, ..., 2, 3, 2], dtype=int64)"
      ]
     },
     "execution_count": 2,
     "metadata": {},
     "output_type": "execute_result"
    }
   ],
   "source": [
    "error"
   ]
  },
  {
   "cell_type": "code",
   "execution_count": 4,
   "metadata": {
    "collapsed": false
   },
   "outputs": [
    {
     "data": {
      "text/plain": [
       "5000"
      ]
     },
     "execution_count": 4,
     "metadata": {},
     "output_type": "execute_result"
    }
   ],
   "source": [
    "len(error)"
   ]
  },
  {
   "cell_type": "code",
   "execution_count": 6,
   "metadata": {
    "collapsed": false
   },
   "outputs": [
    {
     "data": {
      "text/plain": [
       "4"
      ]
     },
     "execution_count": 6,
     "metadata": {},
     "output_type": "execute_result"
    }
   ],
   "source": [
    "error[2]"
   ]
  },
  {
   "cell_type": "code",
   "execution_count": 10,
   "metadata": {
    "collapsed": true
   },
   "outputs": [],
   "source": [
    "\n",
    "count = 0\n",
    "for i in range(len(error)):\n",
    "    if abs(error[i]-0)<0.1:\n",
    "        count+=1"
   ]
  },
  {
   "cell_type": "code",
   "execution_count": 11,
   "metadata": {
    "collapsed": false
   },
   "outputs": [
    {
     "data": {
      "text/plain": [
       "0.0592"
      ]
     },
     "execution_count": 11,
     "metadata": {},
     "output_type": "execute_result"
    }
   ],
   "source": [
    "count/len(error)"
   ]
  },
  {
   "cell_type": "code",
   "execution_count": 18,
   "metadata": {
    "collapsed": false
   },
   "outputs": [
    {
     "data": {
      "text/plain": [
       "(400,)"
      ]
     },
     "execution_count": 18,
     "metadata": {},
     "output_type": "execute_result"
    }
   ],
   "source": [
    "adjustments = np.dot(X.T, error * sigmoid_derivative(result))\n",
    "adjustments.shape"
   ]
  }
 ],
 "metadata": {
  "kernelspec": {
   "display_name": "Python [conda root]",
   "language": "python",
   "name": "conda-root-py"
  },
  "language_info": {
   "codemirror_mode": {
    "name": "ipython",
    "version": 3
   },
   "file_extension": ".py",
   "mimetype": "text/x-python",
   "name": "python",
   "nbconvert_exporter": "python",
   "pygments_lexer": "ipython3",
   "version": "3.5.2"
  }
 },
 "nbformat": 4,
 "nbformat_minor": 1
}
