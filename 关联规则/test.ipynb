{
 "cells": [
  {
   "cell_type": "code",
   "execution_count": 49,
   "metadata": {
    "collapsed": true
   },
   "outputs": [],
   "source": [
    "import pandas as pd\n",
    "import numpy as np\n",
    "from collections import defaultdict"
   ]
  },
  {
   "cell_type": "code",
   "execution_count": 26,
   "metadata": {
    "collapsed": false
   },
   "outputs": [],
   "source": [
    "data = pd.read_csv(\"weather_nominal.csv\")"
   ]
  },
  {
   "cell_type": "code",
   "execution_count": 28,
   "metadata": {
    "collapsed": false
   },
   "outputs": [],
   "source": [
    "data  = pd.get_dummies(data)"
   ]
  },
  {
   "cell_type": "code",
   "execution_count": 30,
   "metadata": {
    "collapsed": false
   },
   "outputs": [],
   "source": [
    "data = data.values"
   ]
  },
  {
   "cell_type": "code",
   "execution_count": 32,
   "metadata": {
    "collapsed": false
   },
   "outputs": [],
   "source": [
    "data = data.astype(int)"
   ]
  },
  {
   "cell_type": "code",
   "execution_count": 59,
   "metadata": {
    "collapsed": false
   },
   "outputs": [
    {
     "name": "stdout",
     "output_type": "stream",
     "text": [
      "defaultdict(<class 'int'>, {(5, 9): 2, (6, 9): 2, (6, 10): 4, (6, 6): 6, (2, 8): 3, (7, 7): 7, (0, 7): 3, (8, 9): 1, (0, 0): 6, (1, 6): 1, (0, 10): 3, (3, 7): 3, (0, 3): 2, (5, 8): 1, (6, 7): 4, (3, 3): 5, (2, 9): 2, (3, 10): 2, (4, 4): 4, (8, 10): 6, (4, 8): 4, (1, 5): 2, (7, 10): 3, (2, 2): 5, (1, 10): 4, (0, 1): 2, (3, 5): 2, (1, 1): 4, (4, 10): 3, (2, 6): 3, (3, 6): 2, (0, 4): 2, (5, 5): 4, (1, 4): 1, (2, 10): 3, (3, 9): 3, (0, 5): 1, (4, 9): 1, (0, 8): 3, (7, 9): 4, (2, 7): 2, (5, 10): 2, (6, 8): 2, (10, 10): 9, (5, 7): 3, (9, 9): 5, (2, 4): 2, (3, 8): 2, (0, 6): 3, (1, 8): 2, (8, 8): 7, (1, 7): 2, (0, 9): 3, (3, 4): 1, (0, 2): 2})\n"
     ]
    }
   ],
   "source": [
    "\n",
    "dic = defaultdict(int)\n",
    "for x in data:\n",
    "    for i in range(data.shape[1]):    \n",
    "        if x[i]==1: \n",
    "            for k in range(i,data.shape[1]):\n",
    "                if x[k]==1:\n",
    "                    dic[i,k]+=1\n",
    "print(dic)"
   ]
  },
  {
   "cell_type": "code",
   "execution_count": 55,
   "metadata": {
    "collapsed": false
   },
   "outputs": [],
   "source": [
    "for i in range(11):\n",
    "    dic[i] = dic[i]/11"
   ]
  },
  {
   "cell_type": "code",
   "execution_count": 56,
   "metadata": {
    "collapsed": false
   },
   "outputs": [
    {
     "data": {
      "text/plain": [
       "defaultdict(int,\n",
       "            {0: 0.5454545454545454,\n",
       "             1: 0.36363636363636365,\n",
       "             2: 0.45454545454545453,\n",
       "             3: 0.45454545454545453,\n",
       "             4: 0.36363636363636365,\n",
       "             5: 0.36363636363636365,\n",
       "             6: 0.5454545454545454,\n",
       "             7: 0.6363636363636364,\n",
       "             8: 0.6363636363636364,\n",
       "             9: 0.45454545454545453,\n",
       "             10: 0.8181818181818182})"
      ]
     },
     "execution_count": 56,
     "metadata": {},
     "output_type": "execute_result"
    }
   ],
   "source": [
    "dic"
   ]
  },
  {
   "cell_type": "code",
   "execution_count": null,
   "metadata": {
    "collapsed": true
   },
   "outputs": [],
   "source": []
  }
 ],
 "metadata": {
  "anaconda-cloud": {},
  "kernelspec": {
   "display_name": "Python [conda root]",
   "language": "python",
   "name": "conda-root-py"
  },
  "language_info": {
   "codemirror_mode": {
    "name": "ipython",
    "version": 3
   },
   "file_extension": ".py",
   "mimetype": "text/x-python",
   "name": "python",
   "nbconvert_exporter": "python",
   "pygments_lexer": "ipython3",
   "version": "3.5.2"
  }
 },
 "nbformat": 4,
 "nbformat_minor": 1
}
