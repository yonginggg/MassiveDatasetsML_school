{
 "cells": [
  {
   "cell_type": "code",
   "execution_count": 29,
   "metadata": {
    "collapsed": false
   },
   "outputs": [],
   "source": [
    "import pandas as pd\n",
    "import numpy as np\n",
    "#导入csv数据\n",
    "#dtype = str,最好读取的时候都以字符串的形式读入，不然可能会使数据失真\n",
    "#比如一个0010008的编号可能会读取成10008\n",
    "\n",
    "fileNameStr = 'D:/Work/数据挖掘ML/Logistic回归/telco.csv'\n",
    "\n",
    "# encoding = \"ISO-8859-1\" -- 用什么解码，一般会默认系统的编码，如果是中文就用 \"utf-8\"\n",
    "DataDF = pd.read_csv(fileNameStr,encoding = \"utf-8\")\n",
    "DataDF = DataDF.fillna(method='ffill')\n",
    "DataDF = DataDF.fillna(method='bfill')\n",
    "DataDF = DataDF.values\n",
    "# print(DataDF.shape)\n",
    "DataX = DataDF[:,:-1]\n",
    "DataX = np.hstack([np.ones((len(DataX), 1)) , DataX])\n",
    "DataY = DataDF[:,-1]\n",
    "\n",
    "\n",
    "\n",
    "\n"
   ]
  },
  {
   "cell_type": "code",
   "execution_count": 48,
   "metadata": {
    "collapsed": true
   },
   "outputs": [],
   "source": [
    "# print(DataX.shape)\n",
    "def loadDataSet():\n",
    "    dataMat = []; labelMat = []\n",
    "    fr = open('testSet.txt')\n",
    "    for line in fr.readlines():\n",
    "        lineArr = line.strip().split()\n",
    "        dataMat.append([1.0, float(lineArr[0]), float(lineArr[1])])\n",
    "        labelMat.append(int(lineArr[2]))\n",
    "    return dataMat,labelMat\n",
    "\n",
    "def getData(fileNameStr):\n",
    "    # encoding = \"ISO-8859-1\" -- 用什么解码，一般会默认系统的编码，如果是中文就用 \"utf-8\"\n",
    "    DataDF = pd.read_csv(fileNameStr, encoding=\"utf-8\",header=None)\n",
    "    DataDF = DataDF.values\n",
    "    # DataDF = np.mat(DataDF)\n",
    "    return DataDF\n",
    " \n",
    "def sigmoid(inX):\n",
    "    return 1.0/(1+np.exp(-inX))\n",
    "\n",
    "def softmax(x):\n",
    "    x = x - np.max(x)\n",
    "    exp_x = np.exp(x)\n",
    "    softmax_x = exp_x / np.sum(exp_x)\n",
    "    return softmax_x\n",
    "\n",
    "def gradAscent(dataMatIn, classLabels):\n",
    "    dataMatrix = np.mat(dataMatIn)            \n",
    "    labelMat = np.mat(classLabels).transpose() \n",
    "    m,n = np.shape(dataMatrix)\n",
    "    alpha = 0.001\n",
    "    maxCycles = 500\n",
    "    weights = np.ones((n,1))\n",
    "    for k in range(maxCycles):              \n",
    "        h = sigmoid(dataMatrix*weights)     \n",
    "#         h = softmax(dataMatrix*weights)  \n",
    "        error = (labelMat - h)              \n",
    "        weights = weights + alpha * dataMatrix.transpose()* error \n",
    "    return weights\n"
   ]
  },
  {
   "cell_type": "code",
   "execution_count": 49,
   "metadata": {
    "collapsed": true
   },
   "outputs": [],
   "source": [
    "def getData(fileNameStr):\n",
    "    # encoding = \"ISO-8859-1\" -- 用什么解码，一般会默认系统的编码，如果是中文就用 \"utf-8\"\n",
    "    DataDF = pd.read_csv(fileNameStr, encoding=\"utf-8\",header=None)\n",
    "    DataDF = DataDF.values\n",
    "    # DataDF = np.mat(DataDF)\n",
    "    return DataDF\n",
    "cancer_X = getData(\"cancer_X.csv\")\n",
    "cancer_Y = getData(\"cancer_Y.csv\")"
   ]
  },
  {
   "cell_type": "code",
   "execution_count": 51,
   "metadata": {
    "collapsed": false
   },
   "outputs": [
    {
     "name": "stdout",
     "output_type": "stream",
     "text": [
      "[[  1.37500000e+02]\n",
      " [  2.74000000e+02]\n",
      " [  3.03800000e+03]\n",
      " [  4.97350000e+03]\n",
      " [  6.40000000e+01]\n",
      " [  1.01750000e+03]\n",
      " [  8.40600000e+03]\n",
      " [  4.21000000e+02]\n",
      " [  8.79500000e+02]\n",
      " [  2.50000000e+00]\n",
      " [  7.25000000e+01]\n",
      " [  3.22500000e+02]\n",
      " [  6.30000000e+01]\n",
      " [  8.65000000e+01]\n",
      " [  6.80000000e+01]\n",
      " [  5.45000000e+01]\n",
      " [  9.50500000e+02]\n",
      " [  1.44637500e+03]\n",
      " [  3.00155000e+03]\n",
      " [  1.36162500e+03]\n",
      " [  1.99772500e+03]\n",
      " [  2.81511000e+04]\n",
      " [  3.98606250e+04]\n",
      " [  6.60525250e+04]\n",
      " [  3.75148750e+04]\n",
      " [  5.16040750e+04]\n",
      " [  6.40000000e+01]\n",
      " [  5.85000000e+01]\n",
      " [  4.90000000e+01]\n",
      " [  8.00000000e+01]\n",
      " [  6.40000000e+01]\n",
      " [  6.00000000e+01]\n",
      " [  6.60000000e+01]\n",
      " [  6.20000000e+01]\n",
      " [  7.95000000e+01]\n",
      " [  2.42846588e+02]\n",
      " [  4.33573005e+02]\n",
      " [  4.82166847e+02]\n",
      " [  3.87981026e+02]\n",
      " [  4.89645118e+02]\n",
      " [  5.22223704e+02]\n",
      " [  3.41500000e+02]]\n",
      "0.275\n"
     ]
    }
   ],
   "source": [
    "\n",
    "w = gradAscent(DataX,DataY)\n",
    "# print(\"梯度上升得到的值为:\")\n",
    "print(w)\n",
    "\n",
    "\n",
    "# 验证命中率\n",
    "w = np.mat(w)\n",
    "DataX = np.mat(DataX)\n",
    "DataY = np.mat(DataY).T\n",
    "loss = abs(DataY-sigmoid(DataX.dot(w)))\n",
    "# print(type(loss))\n",
    "# print(DataX.dot(w).shape)\n",
    "# print(loss)\n",
    "# print(DataY.shape)\n",
    "count = 1\n",
    "for i in range(1000):\n",
    "    if loss[i]-0<0.1:\n",
    "        count+=1\n",
    "\n",
    "\n",
    "print(count/1000)\n",
    "# # 0.757\n"
   ]
  },
  {
   "cell_type": "code",
   "execution_count": 43,
   "metadata": {
    "collapsed": false
   },
   "outputs": [],
   "source": [
    "# cancer_X = getData(\"cancer_X.csv\")\n",
    "# cancer_Y = getData(\"cancer_Y.csv\")\n",
    "\n",
    "# w2 = gradAscent(cancer_X, cancer_Y)"
   ]
  },
  {
   "cell_type": "code",
   "execution_count": 46,
   "metadata": {
    "collapsed": false
   },
   "outputs": [
    {
     "data": {
      "text/plain": [
       "matrix([[  1.00000000e+00,   1.00000000e+00,   1.00000000e+00, ...,\n",
       "           7.74059000e+03,   7.74059000e+03,   7.74059000e+03],\n",
       "        [  1.00000000e+00,   1.00000000e+00,   1.00000000e+00, ...,\n",
       "           1.24706700e+04,   1.24706700e+04,   1.24706700e+04],\n",
       "        [  1.00000000e+00,   1.00000000e+00,   1.00000000e+00, ...,\n",
       "           7.96057000e+03,   7.96057000e+03,   7.96057000e+03],\n",
       "        ..., \n",
       "        [  1.00000000e+00,   1.00000000e+00,   1.00000000e+00, ...,\n",
       "           1.00000000e+00,   1.00000000e+00,   1.00000000e+00],\n",
       "        [  1.00000000e+00,   1.00000000e+00,   1.00000000e+00, ...,\n",
       "           1.00000000e+00,   1.00000000e+00,   1.00000000e+00],\n",
       "        [  1.00000000e+00,   1.00000000e+00,   1.00000000e+00, ...,\n",
       "           1.00000000e+00,   1.00000000e+00,   1.00000000e+00]])"
      ]
     },
     "execution_count": 46,
     "metadata": {},
     "output_type": "execute_result"
    }
   ],
   "source": [
    "# w2"
   ]
  },
  {
   "cell_type": "code",
   "execution_count": 4,
   "metadata": {
    "collapsed": false
   },
   "outputs": [
    {
     "data": {
      "text/plain": [
       "(217, 1)"
      ]
     },
     "execution_count": 4,
     "metadata": {},
     "output_type": "execute_result"
    }
   ],
   "source": [
    "w.shape"
   ]
  },
  {
   "cell_type": "code",
   "execution_count": 41,
   "metadata": {
    "collapsed": false
   },
   "outputs": [
    {
     "data": {
      "text/plain": [
       "(162, 217)"
      ]
     },
     "execution_count": 41,
     "metadata": {},
     "output_type": "execute_result"
    }
   ],
   "source": [
    "cancer_X.shape"
   ]
  },
  {
   "cell_type": "code",
   "execution_count": 42,
   "metadata": {
    "collapsed": false
   },
   "outputs": [
    {
     "data": {
      "text/plain": [
       "(162, 1)"
      ]
     },
     "execution_count": 42,
     "metadata": {},
     "output_type": "execute_result"
    }
   ],
   "source": [
    "cancer_Y.shape"
   ]
  },
  {
   "cell_type": "code",
   "execution_count": 37,
   "metadata": {
    "collapsed": false
   },
   "outputs": [
    {
     "data": {
      "text/plain": [
       "(1000, 42)"
      ]
     },
     "execution_count": 37,
     "metadata": {},
     "output_type": "execute_result"
    }
   ],
   "source": [
    "DataX.shape"
   ]
  },
  {
   "cell_type": "code",
   "execution_count": 39,
   "metadata": {
    "collapsed": false
   },
   "outputs": [
    {
     "data": {
      "text/plain": [
       "(1000,)"
      ]
     },
     "execution_count": 39,
     "metadata": {},
     "output_type": "execute_result"
    }
   ],
   "source": [
    "DataY.shape"
   ]
  },
  {
   "cell_type": "code",
   "execution_count": null,
   "metadata": {
    "collapsed": true
   },
   "outputs": [],
   "source": []
  }
 ],
 "metadata": {
  "anaconda-cloud": {},
  "kernelspec": {
   "display_name": "Python [default]",
   "language": "python",
   "name": "python3"
  },
  "language_info": {
   "codemirror_mode": {
    "name": "ipython",
    "version": 3
   },
   "file_extension": ".py",
   "mimetype": "text/x-python",
   "name": "python",
   "nbconvert_exporter": "python",
   "pygments_lexer": "ipython3",
   "version": "3.5.2"
  },
  "pycharm": {
   "stem_cell": {
    "cell_type": "raw",
    "metadata": {
     "collapsed": false
    },
    "source": []
   }
  }
 },
 "nbformat": 4,
 "nbformat_minor": 0
}
