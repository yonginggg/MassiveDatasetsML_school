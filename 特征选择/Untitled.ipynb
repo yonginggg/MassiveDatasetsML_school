{
 "cells": [
  {
   "cell_type": "code",
   "execution_count": 57,
   "metadata": {
    "collapsed": false
   },
   "outputs": [],
   "source": [
    "import pandas as pd\n",
    "import numpy as np\n",
    "from random import choice\n",
    "data = pd.read_csv('german_clean.csv')\n",
    "data = pd.get_dummies(data)\n",
    "cols = list(data)\n",
    "cols.insert(len(cols),cols.pop(cols.index('class')))\n",
    "data = data.loc[:,cols]\n",
    "data1 = data.loc[data['class'].isin(['1'])]\n",
    "data2 = data.loc[data['class'].isin(['2'])]\n",
    "data = data.values\n",
    "data1 = data1.values\n",
    "data2 = data2.values"
   ]
  },
  {
   "cell_type": "code",
   "execution_count": 58,
   "metadata": {
    "collapsed": false
   },
   "outputs": [],
   "source": [
    "# 特征初值\n",
    "weight = [0]*len(data[1])"
   ]
  },
  {
   "cell_type": "code",
   "execution_count": null,
   "metadata": {
    "collapsed": false
   },
   "outputs": [],
   "source": [
    "k = choice(data)\n",
    "k"
   ]
  },
  {
   "cell_type": "code",
   "execution_count": null,
   "metadata": {
    "collapsed": false
   },
   "outputs": [],
   "source": [
    "right = np.linalg.norm(data1-k, axis=1, keepdims=True)\n",
    "false = np.linalg.norm(data2-k, axis=1, keepdims=True)"
   ]
  },
  {
   "cell_type": "code",
   "execution_count": null,
   "metadata": {
    "collapsed": false
   },
   "outputs": [],
   "source": [
    "j = np.where(right == np.max(right))\n",
    "f = j[0][0]\n",
    "a = data1[f]\n",
    "a = a.reshape(1,a.shape[0])\n",
    "a\n",
    "f = np.where(np.all(data==a,axis=1))\n",
    "f[0][0]"
   ]
  },
  {
   "cell_type": "code",
   "execution_count": 50,
   "metadata": {
    "collapsed": false
   },
   "outputs": [
    {
     "data": {
      "text/plain": [
       "[-1,\n",
       " -1,\n",
       " -1,\n",
       " 1,\n",
       " -1,\n",
       " -1,\n",
       " -1,\n",
       " -1,\n",
       " 1,\n",
       " -1,\n",
       " -1,\n",
       " -1,\n",
       " -1,\n",
       " -1,\n",
       " -1,\n",
       " 1,\n",
       " -1,\n",
       " -1,\n",
       " -1,\n",
       " 1,\n",
       " -1,\n",
       " -1,\n",
       " -1,\n",
       " -1,\n",
       " -1,\n",
       " -1,\n",
       " -1,\n",
       " -1,\n",
       " -1,\n",
       " -1,\n",
       " -1,\n",
       " -1,\n",
       " 1,\n",
       " -1,\n",
       " -1,\n",
       " -1,\n",
       " -1,\n",
       " 1,\n",
       " -1,\n",
       " -1,\n",
       " 1,\n",
       " -1,\n",
       " -1,\n",
       " -1,\n",
       " 1,\n",
       " -1,\n",
       " -1,\n",
       " -1,\n",
       " -1,\n",
       " -1,\n",
       " -1,\n",
       " -1,\n",
       " -1,\n",
       " -1,\n",
       " -1,\n",
       " -1,\n",
       " -1,\n",
       " 1,\n",
       " -1,\n",
       " -1,\n",
       " -1,\n",
       " -1]"
      ]
     },
     "execution_count": 50,
     "metadata": {},
     "output_type": "execute_result"
    }
   ],
   "source": [
    "k = choice(data)\n",
    "\n",
    "rightdistance = np.linalg.norm(data1-k, axis=1, keepdims=True)\n",
    "rightindex= np.where(rightdistance == np.min(rightdistance))[0][0]\n",
    "right = data[rightindex]\n",
    "right = right.reshape(1,right.shape[0])\n",
    "\n",
    "\n",
    "falsedistance = np.linalg.norm(data2-k, axis=1, keepdims=True)\n",
    "falseindex= np.where(falsedistance == np.min(falsedistance))[0][0]\n",
    "false = data[falseindex]\n",
    "false = false.reshape(1,false.shape[0])\n",
    "\n",
    "difference = right-false\n",
    "len(difference[0])\n",
    "for i in range(len(difference[0])):\n",
    "    if(difference[0][i]<0):\n",
    "        weight[i]+=1\n",
    "    else:\n",
    "        weight[i]-=1\n",
    "weight\n",
    "\n"
   ]
  },
  {
   "cell_type": "code",
   "execution_count": 59,
   "metadata": {
    "collapsed": true
   },
   "outputs": [],
   "source": [
    "def relief(data,data1,data2, weight, m):\n",
    "    for i in range(m):\n",
    "#         k = data[np.random.randint(0,len(data)-1)]\n",
    "        k = choice(data)\n",
    "        cl = k[-1]\n",
    "        if cl==1:\n",
    "            rightdistance = np.linalg.norm(data1-k, axis=1, keepdims=True)\n",
    "            falsedistance = np.linalg.norm(data2-k, axis=1, keepdims=True)\n",
    "        elif cl==2:\n",
    "            rightdistance = np.linalg.norm(data2-k, axis=1, keepdims=True)\n",
    "            falsedistance = np.linalg.norm(data1-k, axis=1, keepdims=True)\n",
    "            \n",
    "        rightindex= np.where(rightdistance == np.min(rightdistance))[0][0]\n",
    "        right = data[rightindex]\n",
    "        right = right.reshape(1,right.shape[0])\n",
    "        falseindex= np.where(falsedistance == np.min(falsedistance))[0][0]\n",
    "        false = data[falseindex]\n",
    "        false = false.reshape(1,false.shape[0])\n",
    "        difference = right-false\n",
    "\n",
    "        for i in range(len(difference[0])):\n",
    "            if(difference[0][i]<0):\n",
    "                weight[i]+=1\n",
    "            elif(difference[0][i]>0):\n",
    "                weight[i]-=1\n",
    "    return weight"
   ]
  },
  {
   "cell_type": "code",
   "execution_count": 60,
   "metadata": {
    "collapsed": false
   },
   "outputs": [],
   "source": [
    "weight = relief(data,data1,data2, weight, 100)"
   ]
  },
  {
   "cell_type": "code",
   "execution_count": 61,
   "metadata": {
    "collapsed": false
   },
   "outputs": [
    {
     "data": {
      "text/plain": [
       "[9,\n",
       " 0,\n",
       " 1,\n",
       " 8,\n",
       " 1,\n",
       " 1,\n",
       " 7,\n",
       " -9,\n",
       " 15,\n",
       " -6,\n",
       " 0,\n",
       " 2,\n",
       " 0,\n",
       " -7,\n",
       " 5,\n",
       " 0,\n",
       " 6,\n",
       " 6,\n",
       " -2,\n",
       " -3,\n",
       " -11,\n",
       " 0,\n",
       " 0,\n",
       " -2,\n",
       " 0,\n",
       " 6,\n",
       " 0,\n",
       " 0,\n",
       " 2,\n",
       " 1,\n",
       " -3,\n",
       " -3,\n",
       " -5,\n",
       " -1,\n",
       " 1,\n",
       " 8,\n",
       " -4,\n",
       " -2,\n",
       " 9,\n",
       " -3,\n",
       " 7,\n",
       " -4,\n",
       " -3,\n",
       " -10,\n",
       " -8,\n",
       " 15,\n",
       " 3,\n",
       " 1,\n",
       " -4,\n",
       " 3,\n",
       " 4,\n",
       " -11,\n",
       " 7,\n",
       " -2,\n",
       " -3,\n",
       " 2,\n",
       " 3,\n",
       " 3,\n",
       " -3,\n",
       " 0,\n",
       " 0,\n",
       " 4]"
      ]
     },
     "execution_count": 61,
     "metadata": {},
     "output_type": "execute_result"
    }
   ],
   "source": [
    "weight"
   ]
  },
  {
   "cell_type": "code",
   "execution_count": null,
   "metadata": {
    "collapsed": true
   },
   "outputs": [],
   "source": []
  }
 ],
 "metadata": {
  "kernelspec": {
   "display_name": "Python [conda root]",
   "language": "python",
   "name": "conda-root-py"
  },
  "language_info": {
   "codemirror_mode": {
    "name": "ipython",
    "version": 3
   },
   "file_extension": ".py",
   "mimetype": "text/x-python",
   "name": "python",
   "nbconvert_exporter": "python",
   "pygments_lexer": "ipython3",
   "version": "3.5.2"
  }
 },
 "nbformat": 4,
 "nbformat_minor": 1
}
