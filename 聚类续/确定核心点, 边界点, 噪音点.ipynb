{
 "cells": [
  {
   "cell_type": "code",
   "execution_count": 69,
   "metadata": {
    "collapsed": false
   },
   "outputs": [],
   "source": [
    "import numpy as np \n",
    "import pandas as pd \n",
    "import matplotlib.pyplot as plt\n",
    " \n",
    "data=pd.read_csv('dbscan_test.csv',header=None)\n",
    "data=data.values\n",
    " \n",
    "class DBSCAN():\n",
    "    def __init__(self,epsilon,MinPts):\n",
    "        self.epsilon=epsilon\n",
    "        self.MinPts=MinPts\n",
    "        ###距离矩阵\n",
    "        self.dist=0\n",
    "        ###所有簇集合\n",
    "        self.k_clusters=[]\n",
    "        ###边界点\n",
    "        self.Boundary=np.array([],dtype=int)\n",
    "        ###核心点\n",
    "        self.AllCore=np.array([],dtype=int)\n",
    "        self.CorePts=np.array([],dtype=int)\n",
    "        ###当前样本\n",
    "        self.Samples=0\n",
    "        ###当前簇\n",
    "        self.clusters=0\n",
    "    \n",
    "    ###用来一直往下找核心点\n",
    "    def findDensity(self,point):\n",
    "        ###将该核心点从核心点集合去掉\n",
    "        self.AllCore=np.append(self.AllCore,point)\n",
    "        self.CorePts=np.setdiff1d(self.CorePts,point)\n",
    "        ###找到该核心点的密度直达点，与样本取交集，即防止点被重复聚类\n",
    "        densityPts=np.where((self.dist[int(point)]<self.epsilon)==True)[0]\n",
    "        densityPts=np.intersect1d(densityPts,self.Samples)\n",
    "        ###找到密度直达点中的核心点\n",
    "        IntersecCorePts=np.intersect1d(self.CorePts,densityPts)\n",
    "        ###将这些点添加进目前的簇\n",
    "        self.clusters=np.append(self.clusters,densityPts)\n",
    "        self.clusters=np.unique(self.clusters)\n",
    "        ###将这些点从样本中移除\n",
    "        self.Samples=np.setdiff1d(self.Samples,self.clusters)\n",
    "        ###从该点邻域的核心点出发，只要还能找得到核心点，就一直往下找\n",
    "        if len(IntersecCorePts)!=0:\n",
    "            for IntersecCore in IntersecCorePts:\n",
    "                self.findDensity(IntersecCore)\n",
    "        return self.clusters\n",
    "    \n",
    "    def fit(self,data):\n",
    "        m=data.shape[0]\n",
    "        self.dist=np.zeros((m,m))\n",
    "        self.Samples=np.arange(m)\n",
    "        for datum,idx in zip(data,range(m)):\n",
    "            self.dist[idx]=np.sqrt(np.sum(np.square(datum-data),axis=1))\n",
    "            ###加入核心点\n",
    "            if (np.sum(self.dist[idx]<=self.epsilon)) >= self.MinPts:\n",
    "                self.CorePts=np.append(self.CorePts,idx)\n",
    "        ###只要核心点集合不为空，一直找\n",
    "        while(len(self.CorePts)!=0):\n",
    "            self.clusters=np.array([],dtype=int)\n",
    "            c=self.findDensity(np.random.choice(self.CorePts))\n",
    "            self.k_clusters.append(c)\n",
    "        return self        "
   ]
  },
  {
   "cell_type": "code",
   "execution_count": 70,
   "metadata": {
    "collapsed": false
   },
   "outputs": [],
   "source": [
    "model=DBSCAN(2.01,4)\n",
    "self=model.fit(data)"
   ]
  },
  {
   "cell_type": "code",
   "execution_count": 71,
   "metadata": {
    "collapsed": false
   },
   "outputs": [
    {
     "data": {
      "text/plain": [
       "[array([ 6,  7,  8,  9, 10], dtype=int64),\n",
       " array([0, 1, 2, 3, 4, 5], dtype=int64),\n",
       " array([12, 13, 14, 16], dtype=int64)]"
      ]
     },
     "execution_count": 71,
     "metadata": {},
     "output_type": "execute_result"
    }
   ],
   "source": [
    "self.k_clusters"
   ]
  },
  {
   "cell_type": "code",
   "execution_count": 72,
   "metadata": {
    "collapsed": false
   },
   "outputs": [
    {
     "data": {
      "text/plain": [
       "array([11, 15])"
      ]
     },
     "execution_count": 72,
     "metadata": {},
     "output_type": "execute_result"
    }
   ],
   "source": [
    "self.Samples"
   ]
  },
  {
   "cell_type": "code",
   "execution_count": 73,
   "metadata": {
    "collapsed": false
   },
   "outputs": [
    {
     "data": {
      "text/plain": [
       "array([], dtype=int32)"
      ]
     },
     "execution_count": 73,
     "metadata": {},
     "output_type": "execute_result"
    }
   ],
   "source": [
    "self.CorePts"
   ]
  },
  {
   "cell_type": "code",
   "execution_count": 74,
   "metadata": {
    "collapsed": false
   },
   "outputs": [
    {
     "data": {
      "text/plain": [
       "array([10,  6,  8,  7,  9,  1,  0,  2,  3,  4, 13], dtype=int64)"
      ]
     },
     "execution_count": 74,
     "metadata": {},
     "output_type": "execute_result"
    }
   ],
   "source": [
    "self.AllCore"
   ]
  },
  {
   "cell_type": "code",
   "execution_count": 75,
   "metadata": {
    "collapsed": false
   },
   "outputs": [],
   "source": [
    "\n",
    "for i in range(len(self.k_clusters)):\n",
    "    for j in range(len(self.k_clusters[i])):\n",
    "        self.Boundary=np.append(self.Boundary,self.k_clusters[i][j])"
   ]
  },
  {
   "cell_type": "code",
   "execution_count": 77,
   "metadata": {
    "collapsed": false
   },
   "outputs": [],
   "source": [
    "self.Boundary = np.setdiff1d(self.Boundary,self.AllCore)"
   ]
  },
  {
   "cell_type": "code",
   "execution_count": 78,
   "metadata": {
    "collapsed": false
   },
   "outputs": [
    {
     "data": {
      "text/plain": [
       "array([ 5, 12, 14, 16], dtype=int64)"
      ]
     },
     "execution_count": 78,
     "metadata": {},
     "output_type": "execute_result"
    }
   ],
   "source": [
    "self.Boundary"
   ]
  },
  {
   "cell_type": "code",
   "execution_count": 4,
   "metadata": {
    "collapsed": false
   },
   "outputs": [],
   "source": [
    "import pandas as pd \n",
    "data=pd.read_csv('X_data.csv',header=None)\n",
    "# data=data.values"
   ]
  },
  {
   "cell_type": "code",
   "execution_count": null,
   "metadata": {
    "collapsed": true
   },
   "outputs": [],
   "source": []
  }
 ],
 "metadata": {
  "anaconda-cloud": {},
  "kernelspec": {
   "display_name": "Python [conda root]",
   "language": "python",
   "name": "conda-root-py"
  },
  "language_info": {
   "codemirror_mode": {
    "name": "ipython",
    "version": 3
   },
   "file_extension": ".py",
   "mimetype": "text/x-python",
   "name": "python",
   "nbconvert_exporter": "python",
   "pygments_lexer": "ipython3",
   "version": "3.5.2"
  }
 },
 "nbformat": 4,
 "nbformat_minor": 1
}
