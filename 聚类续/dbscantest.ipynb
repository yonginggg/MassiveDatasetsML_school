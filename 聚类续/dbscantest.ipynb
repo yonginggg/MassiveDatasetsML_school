{
 "cells": [
  {
   "cell_type": "code",
   "execution_count": null,
   "metadata": {
    "collapsed": false
   },
   "outputs": [],
   "source": [
    "import numpy as np\n",
    "import matplotlib.pyplot as plt\n",
    "\n",
    "# A校生\n",
    "mu1, sigma1 = 70, 4.2\n",
    "x1 = mu1 + sigma1 * np.random.randn(400)\n",
    "\n",
    "iq_mu1,iq_sigma1 = 120,15 # 学习时间长\n",
    "iq_mu2,iq_sigma2 = 60,10  # 学习时间短\n",
    "\n",
    "tmp1 = iq_mu1 + iq_sigma1 * np.random.randn(350)\n",
    "tmp2 = iq_mu2 + iq_sigma2 * np.random.randn(50)\n",
    "\n",
    "y1 = np.append(tmp1,tmp2)\n",
    "\n",
    "# B校生\n",
    "mu2,sigma2 = 90,2.1\n",
    "x2 = mu2 + sigma2 * np.random.randn(300)\n",
    "\n",
    "tmp3 = iq_mu1 + iq_sigma1 * np.random.randn(50)\n",
    "tmp4 = iq_mu2 + iq_sigma2 * np.random.randn(250)\n",
    "\n",
    "y2 = np.append(tmp3,tmp4)\n",
    "\n",
    "# 水平组合\n",
    "dataSet1 = np.column_stack((x1,y1))\n",
    "dataSet2 = np.column_stack((x2,y2))\n",
    "\n",
    "dataSet = np.vstack((dataSet1,dataSet2))\n"
   ]
  },
  {
   "cell_type": "code",
   "execution_count": 28,
   "metadata": {
    "collapsed": false
   },
   "outputs": [],
   "source": [
    "import numpy as np \n",
    "import pandas as pd \n",
    "import matplotlib.pyplot as plt\n",
    "dataSet=pd.read_csv('X_data.csv',header=None)\n",
    "dataSet=dataSet.values"
   ]
  },
  {
   "cell_type": "code",
   "execution_count": 29,
   "metadata": {
    "collapsed": false
   },
   "outputs": [
    {
     "data": {
      "text/plain": [
       "(5000, 400)"
      ]
     },
     "execution_count": 29,
     "metadata": {},
     "output_type": "execute_result"
    }
   ],
   "source": [
    "dataSet.shape"
   ]
  },
  {
   "cell_type": "code",
   "execution_count": 59,
   "metadata": {
    "collapsed": false
   },
   "outputs": [
    {
     "data": {
      "text/plain": [
       "DBSCAN(algorithm='auto', eps=3, leaf_size=30, metric='euclidean',\n",
       "    min_samples=16, p=None, random_state=None)"
      ]
     },
     "execution_count": 59,
     "metadata": {},
     "output_type": "execute_result"
    }
   ],
   "source": [
    "# DBSCAN算法\n",
    "from sklearn.cluster import DBSCAN\n",
    "from sklearn import metrics\n",
    "from sklearn.datasets.samples_generator import make_blobs\n",
    "from sklearn.preprocessing import StandardScaler\n",
    "\n",
    "db = DBSCAN(eps=3, min_samples=16).fit(dataSet)\n",
    "db"
   ]
  },
  {
   "cell_type": "code",
   "execution_count": 60,
   "metadata": {
    "collapsed": false
   },
   "outputs": [
    {
     "data": {
      "text/plain": [
       "array([False, False, False, ..., False, False, False], dtype=bool)"
      ]
     },
     "execution_count": 60,
     "metadata": {},
     "output_type": "execute_result"
    }
   ],
   "source": [
    "core_samples_mask = np.zeros_like(db.labels_, dtype=bool)\n",
    "core_samples_mask"
   ]
  },
  {
   "cell_type": "code",
   "execution_count": 61,
   "metadata": {
    "collapsed": false
   },
   "outputs": [
    {
     "data": {
      "text/plain": [
       "array([ 500,  501,  502,  503,  504,  506,  507,  508,  510,  511,  512,\n",
       "        513,  514,  515,  516,  517,  518,  519,  520,  522,  523,  524,\n",
       "        525,  526,  527,  528,  529,  530,  532,  533,  534,  535,  536,\n",
       "        537,  538,  539,  540,  541,  542,  543,  544,  545,  546,  547,\n",
       "        548,  550,  551,  552,  553,  554,  555,  556,  557,  558,  559,\n",
       "        560,  562,  563,  565,  566,  567,  568,  570,  571,  573,  574,\n",
       "        575,  576,  577,  578,  579,  580,  581,  582,  583,  584,  585,\n",
       "        586,  587,  588,  589,  590,  591,  592,  593,  594,  595,  596,\n",
       "        597,  598,  599,  600,  601,  602,  604,  605,  606,  607,  608,\n",
       "        609,  610,  611,  612,  613,  614,  615,  616,  617,  618,  619,\n",
       "        620,  621,  622,  623,  624,  625,  626,  627,  628,  629,  630,\n",
       "        631,  632,  633,  634,  635,  636,  638,  639,  640,  641,  642,\n",
       "        643,  644,  645,  646,  647,  649,  651,  654,  655,  656,  658,\n",
       "        660,  661,  662,  663,  664,  665,  666,  667,  668,  669,  670,\n",
       "        671,  672,  673,  674,  676,  677,  678,  679,  680,  681,  682,\n",
       "        683,  684,  685,  686,  687,  689,  690,  691,  692,  693,  694,\n",
       "        695,  696,  697,  698,  699,  700,  701,  702,  703,  704,  705,\n",
       "        706,  707,  708,  709,  710,  711,  712,  713,  714,  715,  716,\n",
       "        717,  718,  719,  720,  721,  722,  723,  725,  726,  727,  728,\n",
       "        729,  730,  731,  732,  733,  734,  735,  736,  737,  738,  739,\n",
       "        740,  741,  742,  743,  744,  746,  747,  748,  749,  750,  751,\n",
       "        752,  753,  754,  755,  756,  757,  758,  759,  760,  761,  762,\n",
       "        763,  764,  766,  769,  770,  771,  772,  773,  774,  775,  776,\n",
       "        777,  778,  779,  780,  781,  782,  783,  784,  785,  786,  787,\n",
       "        788,  789,  790,  791,  792,  793,  794,  795,  796,  797,  798,\n",
       "        799,  800,  801,  802,  803,  804,  805,  806,  807,  808,  809,\n",
       "        810,  811,  812,  813,  815,  816,  817,  818,  819,  820,  821,\n",
       "        822,  823,  824,  825,  826,  827,  828,  829,  830,  831,  832,\n",
       "        833,  834,  835,  836,  837,  838,  839,  841,  842,  843,  845,\n",
       "        846,  847,  848,  849,  850,  851,  852,  853,  854,  855,  856,\n",
       "        857,  858,  859,  860,  861,  862,  863,  864,  865,  866,  867,\n",
       "        868,  869,  870,  871,  872,  873,  874,  875,  876,  877,  878,\n",
       "        879,  880,  881,  882,  883,  884,  885,  886,  887,  888,  889,\n",
       "        890,  891,  892,  893,  894,  895,  896,  897,  898,  899,  900,\n",
       "        901,  902,  903,  904,  905,  906,  907,  909,  910,  911,  912,\n",
       "        913,  914,  915,  916,  917,  918,  919,  920,  921,  922,  923,\n",
       "        924,  925,  926,  927,  928,  929,  930,  931,  932,  933,  934,\n",
       "        935,  936,  937,  938,  939,  940,  941,  942,  943,  944,  945,\n",
       "        946,  947,  949,  950,  951,  953,  954,  955,  956,  957,  958,\n",
       "        959,  960,  961,  962,  963,  964,  965,  966,  967,  968,  969,\n",
       "        970,  971,  972,  973,  974,  975,  976,  977,  978,  979,  980,\n",
       "        981,  982,  983,  984,  985,  986,  987,  988,  989,  990,  991,\n",
       "        992,  993,  994,  995,  996,  997,  998,  999, 2099, 2112, 2347,\n",
       "       3037, 3099, 3159, 3189, 3224, 3266, 3503, 3509, 3511, 3524, 3528,\n",
       "       3529, 3530, 3531, 3536, 3537, 3541, 3542, 3564, 3567, 3568, 3571,\n",
       "       3573, 3576, 3578, 3581, 3582, 3585, 3586, 3590, 3591, 3593, 3596,\n",
       "       3663, 3676, 3679, 3681, 3682, 3689, 3693, 3694, 3699, 3700, 3702,\n",
       "       3707, 3708, 3709, 3713, 3715, 3716, 3729, 3740, 3754, 3758, 3764,\n",
       "       3776, 3779, 3784, 3790, 3793, 3797, 3800, 3806, 3817, 3819, 3820,\n",
       "       3822, 3826, 3828, 3829, 3835, 3836, 3842, 3843, 3845, 3847, 3849,\n",
       "       3851, 3854, 3858, 3860, 3864, 3865, 3869, 3875, 3876, 3879, 3880,\n",
       "       3881, 3886, 3898, 3913, 3914, 3917, 3919, 3922, 3923, 3925, 3945,\n",
       "       3952, 3973, 3976, 3988, 4504, 4508, 4514, 4516, 4524, 4525, 4527,\n",
       "       4532, 4533, 4543, 4544, 4545, 4546, 4550, 4552, 4560, 4565, 4573,\n",
       "       4592, 4605, 4623, 4629, 4631, 4654, 4658, 4662, 4671, 4677, 4679,\n",
       "       4680, 4696, 4714, 4715, 4732, 4739, 4743, 4744, 4784, 4785, 4809,\n",
       "       4815, 4816, 4817, 4823, 4826, 4831, 4858, 4860, 4875, 4885, 4886,\n",
       "       4901, 4907, 4908, 4920, 4934, 4939, 4962, 4976, 4991], dtype=int64)"
      ]
     },
     "execution_count": 61,
     "metadata": {},
     "output_type": "execute_result"
    }
   ],
   "source": [
    "core_samples_mask[db.core_sample_indices_] = True\n",
    "# core_samples_mask\n",
    "db.core_sample_indices_"
   ]
  },
  {
   "cell_type": "code",
   "execution_count": 62,
   "metadata": {
    "collapsed": false
   },
   "outputs": [
    {
     "data": {
      "text/plain": [
       "array([-1, -1, -1, ..., -1, -1, -1], dtype=int64)"
      ]
     },
     "execution_count": 62,
     "metadata": {},
     "output_type": "execute_result"
    }
   ],
   "source": [
    "labels = db.labels_\n",
    "labels"
   ]
  },
  {
   "cell_type": "code",
   "execution_count": 63,
   "metadata": {
    "collapsed": false
   },
   "outputs": [
    {
     "data": {
      "text/plain": [
       "4"
      ]
     },
     "execution_count": 63,
     "metadata": {},
     "output_type": "execute_result"
    }
   ],
   "source": [
    "\n",
    "# Number of clusters in labels, ignoring noise if present.\n",
    "n_clusters_ = len(set(labels)) - (1 if -1 in labels else 0)\n",
    "\n",
    "n_clusters_"
   ]
  },
  {
   "cell_type": "code",
   "execution_count": 48,
   "metadata": {
    "collapsed": false
   },
   "outputs": [
    {
     "data": {
      "text/plain": [
       "array([ True, False, False, ..., False, False, False], dtype=bool)"
      ]
     },
     "execution_count": 48,
     "metadata": {},
     "output_type": "execute_result"
    }
   ],
   "source": [
    "core_samples_mask"
   ]
  },
  {
   "cell_type": "code",
   "execution_count": null,
   "metadata": {
    "collapsed": true
   },
   "outputs": [],
   "source": []
  },
  {
   "cell_type": "code",
   "execution_count": 36,
   "metadata": {
    "collapsed": false
   },
   "outputs": [
    {
     "name": "stderr",
     "output_type": "stream",
     "text": [
      "C:\\Users\\SilentY\\Anaconda3\\lib\\site-packages\\matplotlib\\lines.py:1206: FutureWarning: comparison to `None` will result in an elementwise object comparison in the future.\n",
      "  if self._markerfacecolor != fc:\n"
     ]
    },
    {
     "data": {
      "image/png": "[encoded data removed]",
      "text/plain": [
       "<matplotlib.figure.Figure at 0x2a175a30240>"
      ]
     },
     "metadata": {},
     "output_type": "display_data"
    }
   ],
   "source": [
    "import matplotlib.pyplot as plt\n",
    "\n",
    "# Black removed and is used for noise instead.\n",
    "unique_labels = set(labels)\n",
    "colors = plt.cm.Spectral(np.linspace(0, 1, len(unique_labels)))\n",
    "for k, col in zip(unique_labels, colors):\n",
    "    if k == -1:\n",
    "        # Black used for noise.\n",
    "        col = 'k'\n",
    "\n",
    "    class_member_mask = (labels == k)\n",
    "\n",
    "    xy = dataSet[class_member_mask & core_samples_mask]\n",
    "    plt.plot(xy[:, 0], xy[:, 1], 'o', markerfacecolor=col,\n",
    "             markeredgecolor='k', markersize=14)\n",
    "\n",
    "    xy = dataSet[class_member_mask & ~core_samples_mask]\n",
    "    plt.plot(xy[:, 0], xy[:, 1], 'o', markerfacecolor=col,\n",
    "             markeredgecolor='k', markersize=6)\n",
    "\n",
    "plt.title('Estimated number of clusters: %d' % n_clusters_)\n",
    "plt.show()"
   ]
  },
  {
   "cell_type": "code",
   "execution_count": null,
   "metadata": {
    "collapsed": true
   },
   "outputs": [],
   "source": []
  }
 ],
 "metadata": {
  "kernelspec": {
   "display_name": "Python [conda root]",
   "language": "python",
   "name": "conda-root-py"
  },
  "language_info": {
   "codemirror_mode": {
    "name": "ipython",
    "version": 3
   },
   "file_extension": ".py",
   "mimetype": "text/x-python",
   "name": "python",
   "nbconvert_exporter": "python",
   "pygments_lexer": "ipython3",
   "version": "3.5.2"
  }
 },
 "nbformat": 4,
 "nbformat_minor": 1
}
