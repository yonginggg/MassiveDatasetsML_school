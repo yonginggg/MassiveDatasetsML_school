{
 "cells": [
  {
   "cell_type": "code",
   "execution_count": 41,
   "metadata": {
    "collapsed": false
   },
   "outputs": [],
   "source": [
    "import pandas as pd\n",
    "import numpy as np\n",
    "origin = pd.read_csv(\"german_clean.csv\")\n",
    "#独热\n",
    "origin = pd.get_dummies(origin)\n",
    "#移动class位置到最后列\n",
    "cols = list(origin)\n",
    "cols.insert(62,cols.pop(cols.index('class')))\n",
    "origin = origin.loc[:,cols]\n",
    "origin\n",
    "\n",
    "#train test\n",
    "originTrain = origin[:700]\n",
    "originTest = origin[700:]\n",
    "originTest = originTest.values\n",
    "#提取class==1, ==2的行\n",
    "origin1 = originTrain.loc[origin['class'].isin(['1'])]\n",
    "origin2 = originTrain.loc[origin['class'].isin(['2'])]\n",
    "\n",
    "origin1v = origin1.values\n",
    "origin2v = origin2.values\n",
    "len1 = len(origin1v)\n",
    "len2 = len(origin2v)\n",
    "\n",
    "p1 = len1/len(originTrain)\n",
    "p2 = len2/len(originTrain)"
   ]
  },
  {
   "cell_type": "code",
   "execution_count": 42,
   "metadata": {
    "collapsed": false
   },
   "outputs": [],
   "source": [
    "p = origin1v[1,:-1].tolist()"
   ]
  },
  {
   "cell_type": "code",
   "execution_count": 43,
   "metadata": {
    "collapsed": false
   },
   "outputs": [],
   "source": [
    "def predict1(p):\n",
    "    k=1\n",
    "    for i in range (len(p)):\n",
    "        k *= (origin1v[:,i].tolist().count(p[i])+1)/len1\n",
    "    return k*p1"
   ]
  },
  {
   "cell_type": "code",
   "execution_count": 44,
   "metadata": {
    "collapsed": false
   },
   "outputs": [],
   "source": [
    "def predict2(p):\n",
    "    b=1\n",
    "    for i in range (len(p)):\n",
    "        b *= (origin2v[:,i].tolist().count(p[i])+1)/len2\n",
    "    return b*p2"
   ]
  },
  {
   "cell_type": "code",
   "execution_count": 45,
   "metadata": {
    "collapsed": false
   },
   "outputs": [],
   "source": [
    "X = originTest[:,:-1]\n",
    "y = originTest[:,-1]"
   ]
  },
  {
   "cell_type": "code",
   "execution_count": 63,
   "metadata": {
    "collapsed": false
   },
   "outputs": [],
   "source": [
    "a = []"
   ]
  },
  {
   "cell_type": "code",
   "execution_count": 64,
   "metadata": {
    "collapsed": false
   },
   "outputs": [],
   "source": [
    "for i in range (len(X)):\n",
    "    if predict1(X[i,:-1].tolist())-predict2(X[i,:-1].tolist())>0:\n",
    "        a.append(1)\n",
    "    else:\n",
    "        a.append(2)"
   ]
  },
  {
   "cell_type": "code",
   "execution_count": 66,
   "metadata": {
    "collapsed": false
   },
   "outputs": [
    {
     "data": {
      "text/plain": [
       "300"
      ]
     },
     "execution_count": 66,
     "metadata": {},
     "output_type": "execute_result"
    }
   ],
   "source": [
    "np.array(a)\n",
    "len(a)"
   ]
  },
  {
   "cell_type": "code",
   "execution_count": 67,
   "metadata": {
    "collapsed": false
   },
   "outputs": [
    {
     "data": {
      "text/plain": [
       "300"
      ]
     },
     "execution_count": 67,
     "metadata": {},
     "output_type": "execute_result"
    }
   ],
   "source": [
    "len(y)"
   ]
  },
  {
   "cell_type": "code",
   "execution_count": 69,
   "metadata": {
    "collapsed": false
   },
   "outputs": [
    {
     "data": {
      "text/plain": [
       "0.0"
      ]
     },
     "execution_count": 69,
     "metadata": {},
     "output_type": "execute_result"
    }
   ],
   "source": [
    "f = y-a\n",
    "f[1]"
   ]
  },
  {
   "cell_type": "code",
   "execution_count": 70,
   "metadata": {
    "collapsed": false
   },
   "outputs": [
    {
     "data": {
      "text/plain": [
       "0.71"
      ]
     },
     "execution_count": 70,
     "metadata": {},
     "output_type": "execute_result"
    }
   ],
   "source": [
    "count = 0\n",
    "for i in range(len(f)):\n",
    "    if abs(f[i]-0)<0.1:\n",
    "        count+=1\n",
    "count/len(f)"
   ]
  },
  {
   "cell_type": "code",
   "execution_count": null,
   "metadata": {
    "collapsed": true
   },
   "outputs": [],
   "source": []
  }
 ],
 "metadata": {
  "kernelspec": {
   "display_name": "Python [conda root]",
   "language": "python",
   "name": "conda-root-py"
  },
  "language_info": {
   "codemirror_mode": {
    "name": "ipython",
    "version": 3
   },
   "file_extension": ".py",
   "mimetype": "text/x-python",
   "name": "python",
   "nbconvert_exporter": "python",
   "pygments_lexer": "ipython3",
   "version": "3.5.2"
  }
 },
 "nbformat": 4,
 "nbformat_minor": 1
}
